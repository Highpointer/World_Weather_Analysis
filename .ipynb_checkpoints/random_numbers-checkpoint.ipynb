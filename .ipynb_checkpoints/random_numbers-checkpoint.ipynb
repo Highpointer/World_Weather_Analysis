{
 "cells": [
  {
   "cell_type": "code",
   "execution_count": 4,
   "id": "025d5c92",
   "metadata": {},
   "outputs": [],
   "source": [
    "# Import the random module.\n",
    "import random"
   ]
  },
  {
   "cell_type": "code",
   "execution_count": 8,
   "id": "ceb120bf",
   "metadata": {},
   "outputs": [
    {
     "data": {
      "text/plain": [
       "-48"
      ]
     },
     "execution_count": 8,
     "metadata": {},
     "output_type": "execute_result"
    }
   ],
   "source": [
    "random.randint(-90, 90)"
   ]
  },
  {
   "cell_type": "code",
   "execution_count": 5,
   "id": "4e7d21b4",
   "metadata": {},
   "outputs": [
    {
     "data": {
      "text/plain": [
       "[-67.29001327675226,\n",
       " 17.04280475909713,\n",
       " -2.2867709217532153,\n",
       " -52.14981263410263,\n",
       " -19.566649509707936,\n",
       " 5.134936133676969,\n",
       " 67.36127105715184,\n",
       " 58.71263679530446,\n",
       " 61.48085524757796,\n",
       " 18.22385269020375]"
      ]
     },
     "execution_count": 5,
     "metadata": {},
     "output_type": "execute_result"
    }
   ],
   "source": [
    "x = 1\n",
    "latitudes = []\n",
    "while x < 11:\n",
    "    random_lat = random.randint(-90, 89) + random.random()\n",
    "    latitudes.append(random_lat)\n",
    "    x += 1\n",
    "latitudes    "
   ]
  },
  {
   "cell_type": "code",
   "execution_count": 6,
   "id": "a40f0a2e",
   "metadata": {},
   "outputs": [
    {
     "data": {
      "text/plain": [
       "-23"
      ]
     },
     "execution_count": 6,
     "metadata": {},
     "output_type": "execute_result"
    }
   ],
   "source": [
    "random.randrange(-90, 90, step=1)"
   ]
  },
  {
   "cell_type": "code",
   "execution_count": 13,
   "id": "805295b0",
   "metadata": {},
   "outputs": [
    {
     "data": {
      "text/plain": [
       "61.208738868214425"
      ]
     },
     "execution_count": 13,
     "metadata": {},
     "output_type": "execute_result"
    }
   ],
   "source": [
    "random.uniform(-90, 90)"
   ]
  },
  {
   "cell_type": "code",
   "execution_count": 10,
   "id": "196d6d41",
   "metadata": {},
   "outputs": [],
   "source": [
    "# Use the citipy module to determine city based on latitude and longitude.\n",
    "from citipy import citipy"
   ]
  },
  {
   "cell_type": "code",
   "execution_count": 11,
   "id": "9b9ae949",
   "metadata": {},
   "outputs": [
    {
     "ename": "NameError",
     "evalue": "name 'coordinates' is not defined",
     "output_type": "error",
     "traceback": [
      "\u001b[1;31m---------------------------------------------------------------------------\u001b[0m",
      "\u001b[1;31mNameError\u001b[0m                                 Traceback (most recent call last)",
      "\u001b[1;32m~\\AppData\\Local\\Temp/ipykernel_29128/3889480549.py\u001b[0m in \u001b[0;36m<module>\u001b[1;34m\u001b[0m\n\u001b[0;32m      1\u001b[0m \u001b[1;31m# Use the print() function to display the latitude and longitude combinations.\u001b[0m\u001b[1;33m\u001b[0m\u001b[1;33m\u001b[0m\u001b[0m\n\u001b[1;32m----> 2\u001b[1;33m \u001b[1;32mfor\u001b[0m \u001b[0mcoordinate\u001b[0m \u001b[1;32min\u001b[0m \u001b[0mcoordinates\u001b[0m\u001b[1;33m:\u001b[0m\u001b[1;33m\u001b[0m\u001b[1;33m\u001b[0m\u001b[0m\n\u001b[0m\u001b[0;32m      3\u001b[0m     print(citipy.nearest_city(coordinate[0], coordinate[1]).city_name,\n\u001b[0;32m      4\u001b[0m           citipy.nearest_city(coordinate[0], coordinate[1]).country_code)\n",
      "\u001b[1;31mNameError\u001b[0m: name 'coordinates' is not defined"
     ]
    }
   ],
   "source": [
    "# Use the print() function to display the latitude and longitude combinations.\n",
    "for coordinate in coordinates:\n",
    "    print(citipy.nearest_city(coordinate[0], coordinate[1]).city_name,\n",
    "          citipy.nearest_city(coordinate[0], coordinate[1]).country_code)"
   ]
  }
 ],
 "metadata": {
  "kernelspec": {
   "display_name": "PythonData",
   "language": "python",
   "name": "pythondata"
  },
  "language_info": {
   "codemirror_mode": {
    "name": "ipython",
    "version": 3
   },
   "file_extension": ".py",
   "mimetype": "text/x-python",
   "name": "python",
   "nbconvert_exporter": "python",
   "pygments_lexer": "ipython3",
   "version": "3.9.7"
  }
 },
 "nbformat": 4,
 "nbformat_minor": 5
}
