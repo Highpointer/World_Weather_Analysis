{
 "cells": [
  {
   "cell_type": "code",
   "execution_count": 15,
   "id": "26f03ade",
   "metadata": {},
   "outputs": [],
   "source": [
    "# Import the NumPy module.\n",
    "import numpy as np"
   ]
  },
  {
   "cell_type": "code",
   "execution_count": 8,
   "id": "288f0ffd",
   "metadata": {},
   "outputs": [
    {
     "data": {
      "text/plain": [
       "-48"
      ]
     },
     "execution_count": 8,
     "metadata": {},
     "output_type": "execute_result"
    }
   ],
   "source": [
    "random.randint(-90, 90)"
   ]
  },
  {
   "cell_type": "code",
   "execution_count": 11,
   "id": "6f9fdd5b",
   "metadata": {},
   "outputs": [
    {
     "data": {
      "text/plain": [
       "[70.24173785660767,\n",
       " 7.1955852045425255,\n",
       " 55.164818760578754,\n",
       " -40.09027097472729,\n",
       " -6.875640129350685,\n",
       " -69.7778991537177,\n",
       " -50.243689114286205,\n",
       " -7.185234444283252,\n",
       " -52.42708920549521,\n",
       " -53.25599942053527]"
      ]
     },
     "execution_count": 11,
     "metadata": {},
     "output_type": "execute_result"
    }
   ],
   "source": [
    "x = 1\n",
    "latitudes = []\n",
    "while x < 11:\n",
    "    random_lat = random.randint(-90, 89) + random.random()\n",
    "    latitudes.append(random_lat)\n",
    "    x += 1\n",
    "latitudes    "
   ]
  },
  {
   "cell_type": "code",
   "execution_count": 12,
   "id": "0e9a5ee7",
   "metadata": {},
   "outputs": [
    {
     "data": {
      "text/plain": [
       "-79"
      ]
     },
     "execution_count": 12,
     "metadata": {},
     "output_type": "execute_result"
    }
   ],
   "source": [
    "random.randrange(-90, 90, step=1)"
   ]
  },
  {
   "cell_type": "code",
   "execution_count": 16,
   "id": "d84374f3",
   "metadata": {},
   "outputs": [
    {
     "data": {
      "text/plain": [
       "71.66597346744135"
      ]
     },
     "execution_count": 16,
     "metadata": {},
     "output_type": "execute_result"
    }
   ],
   "source": [
    "np.random.uniform(-90.000, 90.000)"
   ]
  },
  {
   "cell_type": "code",
   "execution_count": 18,
   "id": "cc1ea834",
   "metadata": {},
   "outputs": [
    {
     "data": {
      "text/plain": [
       "array([ 76.16331507,  26.38563393, -25.72994809,  62.54974936,\n",
       "        15.3695223 , -33.16343236,  51.11827501,  49.50838087,\n",
       "        16.96736441,  -9.72010724,  16.68257801,  12.91767737,\n",
       "        37.83125623, -85.20484662, -55.66254864,   2.49302379,\n",
       "        70.22836385,  89.05670793, -66.56093745,  30.91884228,\n",
       "        61.01224123,  87.62852987,  10.561451  , -72.263691  ,\n",
       "       -24.78657428, -69.1970175 ,  -1.891881  , -14.24639189,\n",
       "       -33.40078671,  -6.4090812 ,  43.78312228,  47.56994836,\n",
       "       -23.63708298, -14.66809382, -25.08895076,  54.72577511,\n",
       "       -18.0225905 , -62.98118531,   3.7096021 , -53.65085385,\n",
       "        22.55763503, -58.21140787,  17.87940748,  58.47784397,\n",
       "        73.02462891, -83.49898163,  53.40800554,  -3.19100399,\n",
       "       -83.79003441,   4.3737345 ,  84.10983937,  12.02949259])"
      ]
     },
     "execution_count": 18,
     "metadata": {},
     "output_type": "execute_result"
    }
   ],
   "source": [
    "np.random.uniform(-90.000, 90.000, size=52)"
   ]
  },
  {
   "cell_type": "code",
   "execution_count": 19,
   "id": "f98140e4",
   "metadata": {},
   "outputs": [],
   "source": [
    "# Import timeit.\n",
    "import timeit"
   ]
  },
  {
   "cell_type": "code",
   "execution_count": 26,
   "id": "0f065c62",
   "metadata": {},
   "outputs": [
    {
     "name": "stdout",
     "output_type": "stream",
     "text": [
      "116 ms ± 25.1 ms per loop (mean ± std. dev. of 7 runs, 10 loops each)\n"
     ]
    }
   ],
   "source": [
    "%timeit np.random.uniform(-90.000, 90.000, size=1000000)"
   ]
  },
  {
   "cell_type": "code",
   "execution_count": 27,
   "id": "9c312fb7",
   "metadata": {},
   "outputs": [
    {
     "name": "stdout",
     "output_type": "stream",
     "text": [
      "The slowest run took 11.10 times longer than the fastest. This could mean that an intermediate result is being cached.\n",
      "31.5 s ± 15.8 s per loop (mean ± std. dev. of 7 runs, 1 loop each)\n"
     ]
    }
   ],
   "source": [
    "def latitudes(size):\n",
    "    latitudes = []\n",
    "    x = 0\n",
    "    while x < (size):\n",
    "        random_lat = random.randint(-90, 90) + random.random()\n",
    "        latitudes.append(random_lat)\n",
    "        x += 1\n",
    "    return latitudes\n",
    "# Call the function with 1500.\n",
    "%timeit latitudes(1000000)"
   ]
  },
  {
   "cell_type": "code",
   "execution_count": null,
   "id": "6ded53be",
   "metadata": {},
   "outputs": [],
   "source": []
  }
 ],
 "metadata": {
  "kernelspec": {
   "display_name": "PythonData",
   "language": "python",
   "name": "pythondata"
  },
  "language_info": {
   "codemirror_mode": {
    "name": "ipython",
    "version": 3
   },
   "file_extension": ".py",
   "mimetype": "text/x-python",
   "name": "python",
   "nbconvert_exporter": "python",
   "pygments_lexer": "ipython3",
   "version": "3.9.7"
  }
 },
 "nbformat": 4,
 "nbformat_minor": 5
}
